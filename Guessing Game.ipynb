{
 "cells": [
  {
   "cell_type": "code",
   "execution_count": null,
   "metadata": {},
   "outputs": [],
   "source": [
    "print('Welcome to my guessing game')\n",
    "print(\"You'll make a bet,then guess.It's all or nothing\")\n",
    "n=input('Please enter the amount of trials you want')\n",
    "int(n)\n",
    "secret_number=20\n",
    "i=0\n",
    "while i < int(n):\n",
    "    users_guess=input('Guess: ')\n",
    "    i=i+1\n",
    "    if int(users_guess)==secret_number:\n",
    "        print('WOW,You won!!!')\n",
    "        break\n",
    "else:\n",
    "    print('Im Sorry,you didnt get it.Hope you didnt bet with your kids fees')\n",
    "    \n"
   ]
  }
 ],
 "metadata": {
  "kernelspec": {
   "display_name": "Python 3",
   "language": "python",
   "name": "python3"
  },
  "language_info": {
   "codemirror_mode": {
    "name": "ipython",
    "version": 3
   },
   "file_extension": ".py",
   "mimetype": "text/x-python",
   "name": "python",
   "nbconvert_exporter": "python",
   "pygments_lexer": "ipython3",
   "version": "3.8.5"
  }
 },
 "nbformat": 4,
 "nbformat_minor": 4
}
